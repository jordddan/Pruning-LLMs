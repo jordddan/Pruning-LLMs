{
 "cells": [
  {
   "cell_type": "code",
   "execution_count": 2,
   "metadata": {},
   "outputs": [],
   "source": [
    "import os\n",
    "\n",
    "os.environ[\"PROTOCOL_BUFFERS_PYTHON_IMPLEMENTATION\"] = \"python\"\n",
    "from transformers import LlamaTokenizer\n",
    "from sentencepiece import sentencepiece_model_pb2 as sp_pb2_model\n",
    "import sentencepiece as spm\n",
    "\n",
    "# openba_sp_model_file = \"/home/amax/qd/MODEL_CKPT/hf_models/OpenBT5-Flan-Pruned/spiece.model\"\n",
    "openba_sp_model_file = \"/home/amax/qd/emb_prune/tokenizer/spiece.model\"\n",
    "vocab_file_path = \"/home/amax/qd/emb_prune/new_vocab.txt\"\n",
    "\n",
    "\n",
    "openba_spm_model = sp_pb2_model.ModelProto()\n",
    "with open(vocab_file_path,\"r\") as f:\n",
    "    data = f.readlines()\n",
    "tokens = []\n",
    "for token in data:\n",
    "    tokens.append(token.strip(\"\\n\"))\n",
    "\n",
    "openba_spm_model = sp_pb2_model.ModelProto()\n",
    "openba_spm_model.ParseFromString(open(openba_sp_model_file, \"rb\").read())\n",
    "\n",
    "token_dict = set(tokens)"
   ]
  },
  {
   "cell_type": "code",
   "execution_count": 3,
   "metadata": {},
   "outputs": [
    {
     "name": "stdout",
     "output_type": "stream",
     "text": [
      "50284\n"
     ]
    }
   ],
   "source": [
    "new_sp_model = sp_pb2_model.ModelProto()\n",
    "\n",
    "new_sp_model.ParseFromString(open(openba_sp_model_file, \"rb\").read())\n",
    "new_sp_model.pieces.clear()\n",
    "\n",
    "for item in openba_spm_model.pieces:\n",
    "    if item.piece in token_dict:\n",
    "        new_sp_model.pieces.append(item)\n",
    "    elif item.type != 1:\n",
    "        new_sp_model.pieces.append(item)\n",
    "print(len(new_sp_model.pieces))"
   ]
  },
  {
   "cell_type": "code",
   "execution_count": null,
   "metadata": {},
   "outputs": [
    {
     "ename": "",
     "evalue": "",
     "output_type": "error",
     "traceback": [
      "\u001b[1;31mThe Kernel crashed while executing code in the the current cell or a previous cell. Please review the code in the cell(s) to identify a possible cause of the failure. Click <a href='https://aka.ms/vscodeJupyterKernelCrash'>here</a> for more info. View Jupyter <a href='command:jupyter.viewOutput'>log</a> for further details."
     ]
    }
   ],
   "source": [
    "with open('newspiece2.model', 'wb') as f:\n",
    "    f.write(new_sp_model.SerializeToString())"
   ]
  }
 ],
 "metadata": {
  "kernelspec": {
   "display_name": "megatron",
   "language": "python",
   "name": "python3"
  },
  "language_info": {
   "codemirror_mode": {
    "name": "ipython",
    "version": 3
   },
   "file_extension": ".py",
   "mimetype": "text/x-python",
   "name": "python",
   "nbconvert_exporter": "python",
   "pygments_lexer": "ipython3",
   "version": "3.9.12"
  }
 },
 "nbformat": 4,
 "nbformat_minor": 2
}
